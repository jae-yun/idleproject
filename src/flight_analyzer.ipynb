{
 "cells": [
  {
   "cell_type": "code",
   "execution_count": 46,
   "metadata": {},
   "outputs": [
    {
     "data": {
      "text/html": [
       "<div>\n",
       "<style scoped>\n",
       "    .dataframe tbody tr th:only-of-type {\n",
       "        vertical-align: middle;\n",
       "    }\n",
       "\n",
       "    .dataframe tbody tr th {\n",
       "        vertical-align: top;\n",
       "    }\n",
       "\n",
       "    .dataframe thead th {\n",
       "        text-align: right;\n",
       "    }\n",
       "</style>\n",
       "<table border=\"1\" class=\"dataframe\">\n",
       "  <thead>\n",
       "    <tr style=\"text-align: right;\">\n",
       "      <th></th>\n",
       "      <th>Date</th>\n",
       "      <th>Day</th>\n",
       "      <th>Airline</th>\n",
       "      <th>Departure time</th>\n",
       "      <th>Departure airport</th>\n",
       "      <th>Arrival time</th>\n",
       "      <th>Arrival airport</th>\n",
       "      <th>Price</th>\n",
       "    </tr>\n",
       "  </thead>\n",
       "  <tbody>\n",
       "    <tr>\n",
       "      <th>0</th>\n",
       "      <td>601.0</td>\n",
       "      <td>목</td>\n",
       "      <td>ANA</td>\n",
       "      <td>19:55</td>\n",
       "      <td>GMP</td>\n",
       "      <td>22:15</td>\n",
       "      <td>HND</td>\n",
       "      <td>329700</td>\n",
       "    </tr>\n",
       "    <tr>\n",
       "      <th>1</th>\n",
       "      <td>601.0</td>\n",
       "      <td>목</td>\n",
       "      <td>일본항공</td>\n",
       "      <td>07:50</td>\n",
       "      <td>GMP</td>\n",
       "      <td>09:55</td>\n",
       "      <td>HND</td>\n",
       "      <td>331100</td>\n",
       "    </tr>\n",
       "    <tr>\n",
       "      <th>2</th>\n",
       "      <td>601.0</td>\n",
       "      <td>목</td>\n",
       "      <td>일본항공</td>\n",
       "      <td>19:20</td>\n",
       "      <td>GMP</td>\n",
       "      <td>21:30</td>\n",
       "      <td>HND</td>\n",
       "      <td>331100</td>\n",
       "    </tr>\n",
       "    <tr>\n",
       "      <th>3</th>\n",
       "      <td>601.0</td>\n",
       "      <td>목</td>\n",
       "      <td>아시아나항공</td>\n",
       "      <td>15:30</td>\n",
       "      <td>GMP</td>\n",
       "      <td>17:35</td>\n",
       "      <td>HND</td>\n",
       "      <td>334300</td>\n",
       "    </tr>\n",
       "    <tr>\n",
       "      <th>4</th>\n",
       "      <td>601.0</td>\n",
       "      <td>목</td>\n",
       "      <td>아시아나항공</td>\n",
       "      <td>19:50</td>\n",
       "      <td>GMP</td>\n",
       "      <td>22:00</td>\n",
       "      <td>HND</td>\n",
       "      <td>334300</td>\n",
       "    </tr>\n",
       "  </tbody>\n",
       "</table>\n",
       "</div>"
      ],
      "text/plain": [
       "    Date Day Airline Departure time Departure airport Arrival time  \\\n",
       "0  601.0   목     ANA          19:55               GMP        22:15   \n",
       "1  601.0   목    일본항공          07:50               GMP        09:55   \n",
       "2  601.0   목    일본항공          19:20               GMP        21:30   \n",
       "3  601.0   목  아시아나항공          15:30               GMP        17:35   \n",
       "4  601.0   목  아시아나항공          19:50               GMP        22:00   \n",
       "\n",
       "  Arrival airport   Price  \n",
       "0             HND  329700  \n",
       "1             HND  331100  \n",
       "2             HND  331100  \n",
       "3             HND  334300  \n",
       "4             HND  334300  "
      ]
     },
     "execution_count": 46,
     "metadata": {},
     "output_type": "execute_result"
    }
   ],
   "source": [
    "from sklearn.metrics import mean_squared_error\n",
    "from sklearn.linear_model import LinearRegression\n",
    "from sklearn.metrics import r2_score\n",
    "import pandas as pd\n",
    "df = pd.read_csv('flight_df.csv')\n",
    "df=df.drop(columns='Flight info')\n",
    "df=df.drop(columns='Flight time')\n",
    "df['Date']=df['Date']*100\n",
    "df['Price']=df['Price'].str.split(',').str[0].astype(int)*1000+df['Price'].str.split(',').str[1].astype(int)\n",
    "df.head()"
   ]
  },
  {
   "cell_type": "code",
   "execution_count": 24,
   "metadata": {},
   "outputs": [],
   "source": [
    "#데이터 인코딩\n",
    "from sklearn.preprocessing import OneHotEncoder\n",
    "enc = OneHotEncoder()\n",
    "\n",
    "df_encoded= df\n",
    "df_encoded['Date']=(df_encoded['Date'])//100+((df_encoded['Date']).mod(100)//7)/10 #월/일이 아니라 월/주로 분리\n",
    "df_encoded['Arrival time']=df_encoded['Arrival time'].str.split(':').str[0].astype(int)\n",
    "df_encoded['Departure time']=df_encoded['Departure time'].str.split(':').str[0].astype(int)\n",
    "\n",
    "df_ohe=enc.fit_transform(df_encoded.drop(columns='Price')).toarray()\n"
   ]
  },
  {
   "cell_type": "code",
   "execution_count": 25,
   "metadata": {},
   "outputs": [],
   "source": [
    "#테스트 트레인 데이터 분할\n",
    "from sklearn.model_selection import train_test_split\n",
    "from sklearn.preprocessing import StandardScaler\n",
    "\n",
    "target = 'Price'\n",
    "X_train, X_test, y_train, y_test  = train_test_split(\n",
    "    df_ohe, df_encoded['Price'], test_size=0.2, random_state=1\n",
    ")"
   ]
  },
  {
   "cell_type": "code",
   "execution_count": 26,
   "metadata": {},
   "outputs": [
    {
     "name": "stdout",
     "output_type": "stream",
     "text": [
      "109138.29011653773\n",
      "0.45135656988901984\n"
     ]
    }
   ],
   "source": [
    "#LR\n",
    "lr = LinearRegression()\n",
    "lr.fit(X_train, y_train)\n",
    "\n",
    "y_pred = lr.predict(X_test)\n",
    "\n",
    "print(mean_squared_error(y_pred, y_test, squared = False))\n",
    "print(r2_score(y_test, y_pred))\n"
   ]
  },
  {
   "cell_type": "code",
   "execution_count": 27,
   "metadata": {},
   "outputs": [],
   "source": [
    "import pickle\n",
    "\n",
    "#파라미터 저장\n",
    "pkl_filename = \"flight.pkl\"\n",
    "with open(pkl_filename, 'wb') as file:\n",
    "    pickle.dump(lr, file)"
   ]
  },
  {
   "cell_type": "code",
   "execution_count": 53,
   "metadata": {},
   "outputs": [],
   "source": [
    "df = pd.read_csv('flight_df.csv')\n",
    "df=df.drop(columns='Flight info')\n",
    "df=df.drop(columns='Flight time')\n",
    "df['Date']=df['Date']*100\n",
    "df['Price']=df['Price'].str.split(',').str[0].astype(int)*1000+df['Price'].str.split(',').str[1].astype(int)\n",
    "\n",
    "#파라미터 불러오기\n",
    "with open(\"flight.pkl\", 'rb') as file:\n",
    "    flightpredicter = pickle.load(file)"
   ]
  },
  {
   "cell_type": "code",
   "execution_count": 52,
   "metadata": {},
   "outputs": [
    {
     "name": "stdout",
     "output_type": "stream",
     "text": [
      "[[617.0, '토', '에티오피아항공', '17:25', 'ICN', '20:15', 'NRT']]\n",
      "Actual Price: 267332 Predicted Price: [278784.]\n"
     ]
    }
   ],
   "source": [
    "#if Random\n",
    "random_data=df.sample(1)\n",
    "actual_price=random_data['Price'].iloc[0]\n",
    "random_data=random_data.drop(columns='Price')\n",
    "input_data=[list(random_data.iloc[0])]\n",
    "\n",
    "#input_data=[['601', '목', 'ANA', '19:55', 'GMP', '22:15', 'HND']]\n",
    "\n",
    "print(input_data)\n",
    "\n",
    "#입력 데이터 전처리\n",
    "X=pd.DataFrame(input_data, columns=['Date','Day','Airline','Departure time','Departure airport','Arrival time','Arrival airport'])\n",
    "X['Date']=X['Date'].astype(int)\n",
    "X['Date']=(X['Date'])//100+((X['Date']).mod(100)//7)/10 #월/일이 아니라 월/주로 분리\n",
    "X['Arrival time']=X['Arrival time'].str.split(':').str[0].astype(int)\n",
    "X['Departure time']=X['Departure time'].str.split(':').str[0].astype(int)\n",
    "X_encoded=enc.transform(X).toarray()\n",
    "\n",
    "#예측\n",
    "result = flightpredicter.predict(X_encoded)\n",
    "print('Actual Price:', actual_price, 'Predicted Price:', result)"
   ]
  },
  {
   "cell_type": "code",
   "execution_count": 30,
   "metadata": {},
   "outputs": [
    {
     "name": "stdout",
     "output_type": "stream",
     "text": [
      "-0.10769468220073719\n"
     ]
    }
   ],
   "source": [
    "#OLS\n",
    "\n",
    "from statsmodels.formula.api import ols\n",
    "from statsmodels.regression.linear_model import OLS\n",
    "model = OLS(y_train, X_train)\n",
    "result = model.fit()\n",
    "y_pred = result.predict(X_test)\n",
    "print(r2_score(y_pred, y_test))"
   ]
  },
  {
   "cell_type": "code",
   "execution_count": 69,
   "metadata": {},
   "outputs": [
    {
     "name": "stdout",
     "output_type": "stream",
     "text": [
      "0.43144437486062814\n"
     ]
    }
   ],
   "source": [
    "#Experiment\n",
    "\n",
    "df = pd.read_csv('flight_df.csv')\n",
    "df=df.drop(columns='Flight info')\n",
    "df=df.drop(columns='Flight time')\n",
    "#df=df.drop(columns='Departure time')\n",
    "df=df.drop(columns='Arrival time')\n",
    "\n",
    "\n",
    "####\n",
    "enc = OneHotEncoder()\n",
    "\n",
    "df_encoded= df\n",
    "df_encoded['Date']=(df_encoded['Date']*100)//100+((df_encoded['Date']*100).mod(100)//7)/10 #월/일이 아니라 월/주로 분리\n",
    "#df_encoded[' Arrival time']=df_encoded[' Arrival time'].str.split(':').str[0].astype(int)\n",
    "df_encoded['Departure time']=df_encoded['Departure time'].str.split(':').str[0].astype(int)\n",
    "df_encoded['Price']=df_encoded['Price'].str.split(',').str[0].astype(int)*1000\n",
    "\n",
    "df_ohe=enc.fit_transform(df_encoded.drop(columns=' Price')).toarray()\n",
    "\n",
    "#####\n",
    "target = 'Price'\n",
    "X_train, X_test, y_train, y_test  = train_test_split(\n",
    "    df_ohe, df_encoded['Price'], test_size=0.2, random_state=1\n",
    ")\n",
    "\n",
    "\n",
    "lr = LinearRegression()\n",
    "lr.fit(X_train, y_train)\n",
    "\n",
    "y_pred = lr.predict(X_test)\n",
    "\n",
    "print(r2_score(y_test, y_pred))\n"
   ]
  },
  {
   "cell_type": "code",
   "execution_count": null,
   "metadata": {},
   "outputs": [],
   "source": [
    "#Arrival 빼고: 0.43144437486062814\n",
    "#Departure 빼고: 0.410816052709579"
   ]
  }
 ],
 "metadata": {
  "kernelspec": {
   "display_name": "pytest",
   "language": "python",
   "name": "python3"
  },
  "language_info": {
   "codemirror_mode": {
    "name": "ipython",
    "version": 3
   },
   "file_extension": ".py",
   "mimetype": "text/x-python",
   "name": "python",
   "nbconvert_exporter": "python",
   "pygments_lexer": "ipython3",
   "version": "3.8.16"
  },
  "orig_nbformat": 4
 },
 "nbformat": 4,
 "nbformat_minor": 2
}
